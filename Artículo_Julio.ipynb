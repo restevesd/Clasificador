{
  "cells": [
    {
      "cell_type": "markdown",
      "metadata": {
        "id": "janWv1vG5xUD"
      },
      "source": [
        "# Detector de Noticias Falsas"
      ]
    },
    {
      "cell_type": "markdown",
      "metadata": {
        "id": "gBCjEALX5xWj"
      },
      "source": [
        "**Resumen:** Este cuaderno pretende dar una breve visión general de cómo realizar la clasificación de textos utilizando Naive Bayes.\n",
        "\n",
        "Utilizaremos un conjunto de datos llamado \"Noticias Falsas\" publicado en Kaggle https://www.kaggle.com/datasets/arseniitretiakov/noticias-falsas-en-espaol\n",
        "\n",
        "Vamos a importar algunos paquetes necesarios antes de empezar a trabajar con el dataset que consiste en aproximadamente 2000 artículos de noticias, que fueron etiquetados como True y False.\n",
        "\n",
        "Nuestro objetivo en este cuaderno es explorar el proceso de entrenamiento y prueba de un clasificador de texto para este problema, utilizando este conjunto de datos y un algoritmo implementado con sklearn.\n",
        "\n",
        "Vamos a importar algunos paquetes necesarios antes de comenzar nuestro trabajo"
      ]
    },
    {
      "cell_type": "markdown",
      "source": [
        "# Importar Librerías"
      ],
      "metadata": {
        "id": "3nAoSFptSRx2"
      }
    },
    {
      "cell_type": "code",
      "execution_count": 9,
      "metadata": {
        "id": "QBvvarqE5xWm"
      },
      "outputs": [],
      "source": [
        "import warnings\n",
        "warnings.filterwarnings('ignore')\n",
        "import numpy as np\n",
        "import pandas as pd # pandas para trabajar arhivos CSV\n",
        "\n",
        "# matplotlib librería de desarrollar gráficas\n",
        "import matplotlib as mpl \n",
        "import matplotlib.cm as cm \n",
        "import matplotlib.pyplot as plt \n",
        "\n",
        "# importar librerías para la extracción de características \n",
        "from sklearn.feature_extraction.text import CountVectorizer\n",
        "from sklearn.feature_extraction.text import TfidfVectorizer\n",
        "from sklearn.feature_extraction.text import TfidfTransformer\n",
        "\n",
        "# pre-procesarmiento de texto\n",
        "import string\n",
        "import re\n",
        "\n",
        "# importar el clasificador desde sklearn\n",
        "from sklearn.naive_bayes import MultinomialNB\n",
        "\n",
        "# importar las métricas de evauación\n",
        "from sklearn.metrics import accuracy_score\n",
        "from sklearn.metrics import confusion_matrix \n",
        "from sklearn import metrics\n",
        "\n",
        "# importar la librería para separar nuestros datos en entrenamiento y prueba\n",
        "from sklearn.model_selection import train_test_split\n",
        "from sklearn.utils import shuffle\n",
        "from sklearn.pipeline import Pipeline\n",
        "\n",
        "#importar librería para obtener las stopwords y trabajar con textos\n",
        "import nltk\n",
        "from nltk.tokenize import word_tokenize\n",
        "from nltk.corpus import stopwords\n",
        "from nltk.stem.wordnet import WordNetLemmatizer\n",
        "\n",
        "wordnet = WordNetLemmatizer()\n",
        "regex = re.compile('[%s]' % re.escape(string.punctuation))"
      ]
    },
    {
      "cell_type": "code",
      "source": [
        "#Descargar Stopwords en español\n",
        "#Palabras habituales que no aportan significado (stop-words)\n",
        "nltk.download('omw-1.4')\n",
        "nltk.download('wordnet')\n",
        "nltk.download('punkt')\n",
        "nltk.download('stopwords')\n",
        "stopword_es = set(nltk.corpus.stopwords.words('spanish'))"
      ],
      "metadata": {
        "colab": {
          "base_uri": "https://localhost:8080/"
        },
        "id": "BlauqEtI4LBN",
        "outputId": "874481db-02a6-4697-ce54-d0f13ef96173"
      },
      "execution_count": 10,
      "outputs": [
        {
          "output_type": "stream",
          "name": "stderr",
          "text": [
            "[nltk_data] Downloading package omw-1.4 to /root/nltk_data...\n",
            "[nltk_data] Downloading package wordnet to /root/nltk_data...\n",
            "[nltk_data] Downloading package punkt to /root/nltk_data...\n",
            "[nltk_data]   Unzipping tokenizers/punkt.zip.\n",
            "[nltk_data] Downloading package stopwords to /root/nltk_data...\n",
            "[nltk_data]   Unzipping corpora/stopwords.zip.\n"
          ]
        }
      ]
    },
    {
      "cell_type": "markdown",
      "source": [
        "# Función para evaluar los modelos"
      ],
      "metadata": {
        "id": "C-QerNPSRxSz"
      }
    },
    {
      "cell_type": "code",
      "source": [
        "# Function to plot confusion matrix. \n",
        "# Ref:http://scikit-learn.org/stable/auto_examples/model_selection/plot_confusion_matrix.html\n",
        "import itertools\n",
        "from sklearn.metrics import roc_auc_score\n",
        "\n",
        "def plot_confusion_matrix(cm, classes,\n",
        "                          normalize=False,\n",
        "                          title='Confusion matrix',\n",
        "                          cmap=plt.cm.Blues):\n",
        "    \"\"\"\n",
        "    This function prints and plots the confusion matrix.\n",
        "    Normalization can be applied by setting `normalize=True`.\n",
        "    \"\"\"\n",
        "    if normalize:\n",
        "        cm = cm.astype('float') / cm.sum(axis=1)[:, np.newaxis]\n",
        "\n",
        "    plt.imshow(cm, interpolation='nearest', cmap=cmap)\n",
        "    plt.title(title)\n",
        "    plt.colorbar()\n",
        "    tick_marks = np.arange(len(classes))\n",
        "    plt.xticks(tick_marks, classes, rotation=45)\n",
        "    plt.yticks(tick_marks, classes)\n",
        "\n",
        "    fmt = '.2f' if normalize else 'd'\n",
        "    thresh = cm.max() / 2.\n",
        "    for i, j in itertools.product(range(cm.shape[0]), range(cm.shape[1])):\n",
        "        plt.text(j, i, format(cm[i, j], fmt),\n",
        "                 horizontalalignment=\"center\",\n",
        "                 color=\"white\" if cm[i, j] > thresh else \"black\")\n",
        "\n",
        "    plt.tight_layout()\n",
        "    plt.ylabel('True label',fontsize=15)\n",
        "    plt.xlabel('Predicted label',fontsize=15)"
      ],
      "metadata": {
        "id": "2bvSL7pNRwZL"
      },
      "execution_count": 11,
      "outputs": []
    },
    {
      "cell_type": "markdown",
      "metadata": {
        "id": "1giNRemr1lk7"
      },
      "source": [
        "### Cargar y explorar los datos de entrenamiento "
      ]
    },
    {
      "cell_type": "code",
      "source": [
        "true = pd.read_csv(r\"/content/onlytrue1000.csv\")\n",
        "fake = pd.read_csv(r\"/content/onlyfakes1000.csv\")\n",
        "\n",
        "# Asignamos primero las etiquetas de clase en variables de resultado binarias por comodidad. 1 para Real, y 0 para Falsas\n",
        "true[\"class\"] = 1\n",
        "fake[\"class\"] = 0\n",
        "\n",
        "true[\"etiqueta\"] = \"Real\"\n",
        "fake[\"etiqueta\"] = \"Falsa\"\n",
        "\n",
        "our_data = pd.concat([true,fake])\n",
        "\n",
        "our_data = shuffle(our_data)\n",
        "\n",
        "our_data.rename(columns = {'text':'Text'}, inplace = True)\n",
        "\n",
        "our_data.head()\n"
      ],
      "metadata": {
        "colab": {
          "base_uri": "https://localhost:8080/",
          "height": 206
        },
        "id": "RdSOf1qPEnQV",
        "outputId": "d6a611ae-bf3d-4695-987e-46144cb8bba2"
      },
      "execution_count": 27,
      "outputs": [
        {
          "output_type": "execute_result",
          "data": {
            "text/plain": [
              "                                                  Text  class etiqueta\n",
              "303  El pensamiento feminista, que nació con la nob...      0    Falsa\n",
              "253  El Día Internacional contra la Violencia de Gé...      0    Falsa\n",
              "696  PERIODISTA \"Que piensas sobre la petición que ...      0    Falsa\n",
              "445  El PSN critica que se pida el cierre de la cen...      1     Real\n",
              "268  Continúan las tareas de rescate de una treinte...      1     Real"
            ],
            "text/html": [
              "\n",
              "  <div id=\"df-a6e735a2-2086-43f2-9de1-42309a05dc02\">\n",
              "    <div class=\"colab-df-container\">\n",
              "      <div>\n",
              "<style scoped>\n",
              "    .dataframe tbody tr th:only-of-type {\n",
              "        vertical-align: middle;\n",
              "    }\n",
              "\n",
              "    .dataframe tbody tr th {\n",
              "        vertical-align: top;\n",
              "    }\n",
              "\n",
              "    .dataframe thead th {\n",
              "        text-align: right;\n",
              "    }\n",
              "</style>\n",
              "<table border=\"1\" class=\"dataframe\">\n",
              "  <thead>\n",
              "    <tr style=\"text-align: right;\">\n",
              "      <th></th>\n",
              "      <th>Text</th>\n",
              "      <th>class</th>\n",
              "      <th>etiqueta</th>\n",
              "    </tr>\n",
              "  </thead>\n",
              "  <tbody>\n",
              "    <tr>\n",
              "      <th>303</th>\n",
              "      <td>El pensamiento feminista, que nació con la nob...</td>\n",
              "      <td>0</td>\n",
              "      <td>Falsa</td>\n",
              "    </tr>\n",
              "    <tr>\n",
              "      <th>253</th>\n",
              "      <td>El Día Internacional contra la Violencia de Gé...</td>\n",
              "      <td>0</td>\n",
              "      <td>Falsa</td>\n",
              "    </tr>\n",
              "    <tr>\n",
              "      <th>696</th>\n",
              "      <td>PERIODISTA \"Que piensas sobre la petición que ...</td>\n",
              "      <td>0</td>\n",
              "      <td>Falsa</td>\n",
              "    </tr>\n",
              "    <tr>\n",
              "      <th>445</th>\n",
              "      <td>El PSN critica que se pida el cierre de la cen...</td>\n",
              "      <td>1</td>\n",
              "      <td>Real</td>\n",
              "    </tr>\n",
              "    <tr>\n",
              "      <th>268</th>\n",
              "      <td>Continúan las tareas de rescate de una treinte...</td>\n",
              "      <td>1</td>\n",
              "      <td>Real</td>\n",
              "    </tr>\n",
              "  </tbody>\n",
              "</table>\n",
              "</div>\n",
              "      <button class=\"colab-df-convert\" onclick=\"convertToInteractive('df-a6e735a2-2086-43f2-9de1-42309a05dc02')\"\n",
              "              title=\"Convert this dataframe to an interactive table.\"\n",
              "              style=\"display:none;\">\n",
              "        \n",
              "  <svg xmlns=\"http://www.w3.org/2000/svg\" height=\"24px\"viewBox=\"0 0 24 24\"\n",
              "       width=\"24px\">\n",
              "    <path d=\"M0 0h24v24H0V0z\" fill=\"none\"/>\n",
              "    <path d=\"M18.56 5.44l.94 2.06.94-2.06 2.06-.94-2.06-.94-.94-2.06-.94 2.06-2.06.94zm-11 1L8.5 8.5l.94-2.06 2.06-.94-2.06-.94L8.5 2.5l-.94 2.06-2.06.94zm10 10l.94 2.06.94-2.06 2.06-.94-2.06-.94-.94-2.06-.94 2.06-2.06.94z\"/><path d=\"M17.41 7.96l-1.37-1.37c-.4-.4-.92-.59-1.43-.59-.52 0-1.04.2-1.43.59L10.3 9.45l-7.72 7.72c-.78.78-.78 2.05 0 2.83L4 21.41c.39.39.9.59 1.41.59.51 0 1.02-.2 1.41-.59l7.78-7.78 2.81-2.81c.8-.78.8-2.07 0-2.86zM5.41 20L4 18.59l7.72-7.72 1.47 1.35L5.41 20z\"/>\n",
              "  </svg>\n",
              "      </button>\n",
              "      \n",
              "  <style>\n",
              "    .colab-df-container {\n",
              "      display:flex;\n",
              "      flex-wrap:wrap;\n",
              "      gap: 12px;\n",
              "    }\n",
              "\n",
              "    .colab-df-convert {\n",
              "      background-color: #E8F0FE;\n",
              "      border: none;\n",
              "      border-radius: 50%;\n",
              "      cursor: pointer;\n",
              "      display: none;\n",
              "      fill: #1967D2;\n",
              "      height: 32px;\n",
              "      padding: 0 0 0 0;\n",
              "      width: 32px;\n",
              "    }\n",
              "\n",
              "    .colab-df-convert:hover {\n",
              "      background-color: #E2EBFA;\n",
              "      box-shadow: 0px 1px 2px rgba(60, 64, 67, 0.3), 0px 1px 3px 1px rgba(60, 64, 67, 0.15);\n",
              "      fill: #174EA6;\n",
              "    }\n",
              "\n",
              "    [theme=dark] .colab-df-convert {\n",
              "      background-color: #3B4455;\n",
              "      fill: #D2E3FC;\n",
              "    }\n",
              "\n",
              "    [theme=dark] .colab-df-convert:hover {\n",
              "      background-color: #434B5C;\n",
              "      box-shadow: 0px 1px 3px 1px rgba(0, 0, 0, 0.15);\n",
              "      filter: drop-shadow(0px 1px 2px rgba(0, 0, 0, 0.3));\n",
              "      fill: #FFFFFF;\n",
              "    }\n",
              "  </style>\n",
              "\n",
              "      <script>\n",
              "        const buttonEl =\n",
              "          document.querySelector('#df-a6e735a2-2086-43f2-9de1-42309a05dc02 button.colab-df-convert');\n",
              "        buttonEl.style.display =\n",
              "          google.colab.kernel.accessAllowed ? 'block' : 'none';\n",
              "\n",
              "        async function convertToInteractive(key) {\n",
              "          const element = document.querySelector('#df-a6e735a2-2086-43f2-9de1-42309a05dc02');\n",
              "          const dataTable =\n",
              "            await google.colab.kernel.invokeFunction('convertToInteractive',\n",
              "                                                     [key], {});\n",
              "          if (!dataTable) return;\n",
              "\n",
              "          const docLinkHtml = 'Like what you see? Visit the ' +\n",
              "            '<a target=\"_blank\" href=https://colab.research.google.com/notebooks/data_table.ipynb>data table notebook</a>'\n",
              "            + ' to learn more about interactive tables.';\n",
              "          element.innerHTML = '';\n",
              "          dataTable['output_type'] = 'display_data';\n",
              "          await google.colab.output.renderOutput(dataTable, element);\n",
              "          const docLink = document.createElement('div');\n",
              "          docLink.innerHTML = docLinkHtml;\n",
              "          element.appendChild(docLink);\n",
              "        }\n",
              "      </script>\n",
              "    </div>\n",
              "  </div>\n",
              "  "
            ]
          },
          "metadata": {},
          "execution_count": 27
        }
      ]
    },
    {
      "cell_type": "code",
      "source": [
        "our_data.info()"
      ],
      "metadata": {
        "colab": {
          "base_uri": "https://localhost:8080/"
        },
        "id": "sQJlgfGLZWP6",
        "outputId": "1d1fe63a-40ff-43f7-f6b7-223c3e4e6566"
      },
      "execution_count": 14,
      "outputs": [
        {
          "output_type": "stream",
          "name": "stdout",
          "text": [
            "<class 'pandas.core.frame.DataFrame'>\n",
            "Int64Index: 2000 entries, 475 to 39\n",
            "Data columns (total 2 columns):\n",
            " #   Column  Non-Null Count  Dtype \n",
            "---  ------  --------------  ----- \n",
            " 0   Text    2000 non-null   object\n",
            " 1   class   2000 non-null   int64 \n",
            "dtypes: int64(1), object(1)\n",
            "memory usage: 46.9+ KB\n"
          ]
        }
      ]
    },
    {
      "cell_type": "code",
      "source": [
        "#Validamos si tenemos valores nulos o faltantes\n",
        "our_data.isna().sum()"
      ],
      "metadata": {
        "colab": {
          "base_uri": "https://localhost:8080/"
        },
        "id": "MD30jZ3Q95-C",
        "outputId": "c62882c8-2f0b-43db-af5f-4a9af2144ef4"
      },
      "execution_count": 15,
      "outputs": [
        {
          "output_type": "execute_result",
          "data": {
            "text/plain": [
              "Text     0\n",
              "class    0\n",
              "dtype: int64"
            ]
          },
          "metadata": {},
          "execution_count": 15
        }
      ]
    },
    {
      "cell_type": "code",
      "execution_count": 16,
      "metadata": {
        "colab": {
          "base_uri": "https://localhost:8080/",
          "height": 90
        },
        "id": "LbED8Q185xWu",
        "outputId": "41488ec1-2a51-45e8-ad86-c60ff7e8b28f"
      },
      "outputs": [
        {
          "output_type": "display_data",
          "data": {
            "text/plain": [
              "(2000, 2)"
            ]
          },
          "metadata": {}
        },
        {
          "output_type": "execute_result",
          "data": {
            "text/plain": [
              "0    0.5\n",
              "1    0.5\n",
              "Name: class, dtype: float64"
            ]
          },
          "metadata": {},
          "execution_count": 16
        }
      ],
      "source": [
        "#Observamos si existe algún desbalanceo en nuetros datos \n",
        "display(our_data.shape) #Número de files y columnas en nuestro dataset\n",
        "our_data[\"class\"].value_counts()/our_data.shape[0] # Distribucion de las etiquetas a predecir de nuestro dataset"
      ]
    },
    {
      "cell_type": "markdown",
      "source": [
        "**Covertimos la columna de etiqueta de clases a variable categórica**\n",
        "\n",
        "Una variable categórica es aquella que permite clasificar una serie de datos por medio de valores fijos asociados a una cualidad o categoría concreta. La variable categórica, a diferencia de las variables cardinales o continuas (que permiten cálculos numéricos), clasifica a los individuos o casos."
      ],
      "metadata": {
        "id": "ZdRngRcuT2pw"
      }
    },
    {
      "cell_type": "code",
      "source": [
        "our_data[\"class\"] = pd.Categorical(our_data[\"class\"])\n",
        "our_data.info()"
      ],
      "metadata": {
        "colab": {
          "base_uri": "https://localhost:8080/"
        },
        "id": "50dPtIynFtTV",
        "outputId": "84969e50-ab79-4e5f-f8aa-d12c69718238"
      },
      "execution_count": 17,
      "outputs": [
        {
          "output_type": "stream",
          "name": "stdout",
          "text": [
            "<class 'pandas.core.frame.DataFrame'>\n",
            "Int64Index: 2000 entries, 475 to 39\n",
            "Data columns (total 2 columns):\n",
            " #   Column  Non-Null Count  Dtype   \n",
            "---  ------  --------------  -----   \n",
            " 0   Text    2000 non-null   object  \n",
            " 1   class   2000 non-null   category\n",
            "dtypes: category(1), object(1)\n",
            "memory usage: 33.3+ KB\n"
          ]
        }
      ]
    },
    {
      "cell_type": "markdown",
      "source": [
        "Validamos cuantas observaciones tenemos por cada categoría"
      ],
      "metadata": {
        "id": "4NfDdGJbVOvp"
      }
    },
    {
      "cell_type": "code",
      "source": [
        "our_data[\"class\"].value_counts()"
      ],
      "metadata": {
        "colab": {
          "base_uri": "https://localhost:8080/"
        },
        "id": "PFr-ZTMs-CFb",
        "outputId": "85a423f9-72a2-4ecc-9be5-994b623e8b7f"
      },
      "execution_count": 18,
      "outputs": [
        {
          "output_type": "execute_result",
          "data": {
            "text/plain": [
              "0    1000\n",
              "1    1000\n",
              "Name: class, dtype: int64"
            ]
          },
          "metadata": {},
          "execution_count": 18
        }
      ]
    },
    {
      "cell_type": "markdown",
      "source": [
        "# EDA (Análisis Exploratorio de Datos)"
      ],
      "metadata": {
        "id": "IR646CjEzTMN"
      }
    },
    {
      "cell_type": "markdown",
      "source": [
        "## 1 .- Preprocesamiento de Texto"
      ],
      "metadata": {
        "id": "GRcGNUaU3LhT"
      }
    },
    {
      "cell_type": "markdown",
      "metadata": {
        "id": "yhC5TZuL5xXK"
      },
      "source": [
        "Los pasos típicos consisten en la tokenización, convertir a minúsculas, la eliminación de stopwords, signos de puntuación, etc., y la vectorización. \n",
        "\n",
        "También se pueden llevar a cabo otros procesos, como el stemming o la lematización. \n",
        "\n",
        "En este caso, estamos realizando los siguientes pasos: eliminación de signos puntuación, números y stopwords. Para este ejemplo utilizamos las stopword de la librería NLTK, a veces, se necesitan listas de palabras reservadas personalizadas en función de la tarea."
      ]
    },
    {
      "cell_type": "code",
      "execution_count": 19,
      "metadata": {
        "id": "7MZSHdHZ5xXL"
      },
      "outputs": [],
      "source": [
        "#Función para eliminar las tildes\n",
        "def normalize(s):\n",
        "    replacements = (\n",
        "        (\"á\", \"a\"),\n",
        "        (\"é\", \"e\"),\n",
        "        (\"í\", \"i\"),\n",
        "        (\"ó\", \"o\"),\n",
        "        (\"ú\", \"u\"),\n",
        "    )\n",
        "    for a, b in replacements:\n",
        "        s = s.replace(a, b).replace(a.upper(), b.upper())\n",
        "    return s\n",
        "\n",
        "#función para limpiar texto\n",
        "def limpiar_texto(line_from_column):    \n",
        "    tokenized_doc = word_tokenize(line_from_column)\n",
        "    \n",
        "    new_review = []\n",
        "    for token in tokenized_doc:\n",
        "        new_token = regex.sub(u'', token)\n",
        "        if not new_token == u'':\n",
        "            new_review.append(new_token)\n",
        "    \n",
        "    new_term_vector = []\n",
        "    for word in new_review:\n",
        "        if not word in stopword_es:\n",
        "            new_term_vector.append(normalize(word.lower()))\n",
        "    \n",
        "    final_doc = []\n",
        "    for word in new_term_vector:\n",
        "        final_doc.append(wordnet.lemmatize(word))\n",
        "    \n",
        "    return ' '.join(final_doc)"
      ]
    },
    {
      "cell_type": "code",
      "source": [
        "#Limpiando texto\n",
        "our_data['clean_text'] = our_data['Text'].apply(limpiar_texto)\n",
        "\n",
        "#texto limpio\n",
        "our_data.head(2)"
      ],
      "metadata": {
        "colab": {
          "base_uri": "https://localhost:8080/",
          "height": 112
        },
        "id": "y8icWxY-3TDz",
        "outputId": "d53e132c-2459-4474-b6ce-1c423ec4961a"
      },
      "execution_count": 50,
      "outputs": [
        {
          "output_type": "execute_result",
          "data": {
            "text/plain": [
              "                                                  Text  class etiqueta  \\\n",
              "303  El pensamiento feminista, que nació con la nob...      0    Falsa   \n",
              "253  El Día Internacional contra la Violencia de Gé...      0    Falsa   \n",
              "\n",
              "                                            clean_text  text_len  \\\n",
              "303  el pensamiento feminista nacio noble justa fin...       188   \n",
              "253  el dia internacional violencia genero basa gra...       191   \n",
              "\n",
              "     text_word_count  \n",
              "303               26  \n",
              "253               28  "
            ],
            "text/html": [
              "\n",
              "  <div id=\"df-6f3362d8-eb33-4acc-add1-f663b80eb8ed\">\n",
              "    <div class=\"colab-df-container\">\n",
              "      <div>\n",
              "<style scoped>\n",
              "    .dataframe tbody tr th:only-of-type {\n",
              "        vertical-align: middle;\n",
              "    }\n",
              "\n",
              "    .dataframe tbody tr th {\n",
              "        vertical-align: top;\n",
              "    }\n",
              "\n",
              "    .dataframe thead th {\n",
              "        text-align: right;\n",
              "    }\n",
              "</style>\n",
              "<table border=\"1\" class=\"dataframe\">\n",
              "  <thead>\n",
              "    <tr style=\"text-align: right;\">\n",
              "      <th></th>\n",
              "      <th>Text</th>\n",
              "      <th>class</th>\n",
              "      <th>etiqueta</th>\n",
              "      <th>clean_text</th>\n",
              "      <th>text_len</th>\n",
              "      <th>text_word_count</th>\n",
              "    </tr>\n",
              "  </thead>\n",
              "  <tbody>\n",
              "    <tr>\n",
              "      <th>303</th>\n",
              "      <td>El pensamiento feminista, que nació con la nob...</td>\n",
              "      <td>0</td>\n",
              "      <td>Falsa</td>\n",
              "      <td>el pensamiento feminista nacio noble justa fin...</td>\n",
              "      <td>188</td>\n",
              "      <td>26</td>\n",
              "    </tr>\n",
              "    <tr>\n",
              "      <th>253</th>\n",
              "      <td>El Día Internacional contra la Violencia de Gé...</td>\n",
              "      <td>0</td>\n",
              "      <td>Falsa</td>\n",
              "      <td>el dia internacional violencia genero basa gra...</td>\n",
              "      <td>191</td>\n",
              "      <td>28</td>\n",
              "    </tr>\n",
              "  </tbody>\n",
              "</table>\n",
              "</div>\n",
              "      <button class=\"colab-df-convert\" onclick=\"convertToInteractive('df-6f3362d8-eb33-4acc-add1-f663b80eb8ed')\"\n",
              "              title=\"Convert this dataframe to an interactive table.\"\n",
              "              style=\"display:none;\">\n",
              "        \n",
              "  <svg xmlns=\"http://www.w3.org/2000/svg\" height=\"24px\"viewBox=\"0 0 24 24\"\n",
              "       width=\"24px\">\n",
              "    <path d=\"M0 0h24v24H0V0z\" fill=\"none\"/>\n",
              "    <path d=\"M18.56 5.44l.94 2.06.94-2.06 2.06-.94-2.06-.94-.94-2.06-.94 2.06-2.06.94zm-11 1L8.5 8.5l.94-2.06 2.06-.94-2.06-.94L8.5 2.5l-.94 2.06-2.06.94zm10 10l.94 2.06.94-2.06 2.06-.94-2.06-.94-.94-2.06-.94 2.06-2.06.94z\"/><path d=\"M17.41 7.96l-1.37-1.37c-.4-.4-.92-.59-1.43-.59-.52 0-1.04.2-1.43.59L10.3 9.45l-7.72 7.72c-.78.78-.78 2.05 0 2.83L4 21.41c.39.39.9.59 1.41.59.51 0 1.02-.2 1.41-.59l7.78-7.78 2.81-2.81c.8-.78.8-2.07 0-2.86zM5.41 20L4 18.59l7.72-7.72 1.47 1.35L5.41 20z\"/>\n",
              "  </svg>\n",
              "      </button>\n",
              "      \n",
              "  <style>\n",
              "    .colab-df-container {\n",
              "      display:flex;\n",
              "      flex-wrap:wrap;\n",
              "      gap: 12px;\n",
              "    }\n",
              "\n",
              "    .colab-df-convert {\n",
              "      background-color: #E8F0FE;\n",
              "      border: none;\n",
              "      border-radius: 50%;\n",
              "      cursor: pointer;\n",
              "      display: none;\n",
              "      fill: #1967D2;\n",
              "      height: 32px;\n",
              "      padding: 0 0 0 0;\n",
              "      width: 32px;\n",
              "    }\n",
              "\n",
              "    .colab-df-convert:hover {\n",
              "      background-color: #E2EBFA;\n",
              "      box-shadow: 0px 1px 2px rgba(60, 64, 67, 0.3), 0px 1px 3px 1px rgba(60, 64, 67, 0.15);\n",
              "      fill: #174EA6;\n",
              "    }\n",
              "\n",
              "    [theme=dark] .colab-df-convert {\n",
              "      background-color: #3B4455;\n",
              "      fill: #D2E3FC;\n",
              "    }\n",
              "\n",
              "    [theme=dark] .colab-df-convert:hover {\n",
              "      background-color: #434B5C;\n",
              "      box-shadow: 0px 1px 3px 1px rgba(0, 0, 0, 0.15);\n",
              "      filter: drop-shadow(0px 1px 2px rgba(0, 0, 0, 0.3));\n",
              "      fill: #FFFFFF;\n",
              "    }\n",
              "  </style>\n",
              "\n",
              "      <script>\n",
              "        const buttonEl =\n",
              "          document.querySelector('#df-6f3362d8-eb33-4acc-add1-f663b80eb8ed button.colab-df-convert');\n",
              "        buttonEl.style.display =\n",
              "          google.colab.kernel.accessAllowed ? 'block' : 'none';\n",
              "\n",
              "        async function convertToInteractive(key) {\n",
              "          const element = document.querySelector('#df-6f3362d8-eb33-4acc-add1-f663b80eb8ed');\n",
              "          const dataTable =\n",
              "            await google.colab.kernel.invokeFunction('convertToInteractive',\n",
              "                                                     [key], {});\n",
              "          if (!dataTable) return;\n",
              "\n",
              "          const docLinkHtml = 'Like what you see? Visit the ' +\n",
              "            '<a target=\"_blank\" href=https://colab.research.google.com/notebooks/data_table.ipynb>data table notebook</a>'\n",
              "            + ' to learn more about interactive tables.';\n",
              "          element.innerHTML = '';\n",
              "          dataTable['output_type'] = 'display_data';\n",
              "          await google.colab.output.renderOutput(dataTable, element);\n",
              "          const docLink = document.createElement('div');\n",
              "          docLink.innerHTML = docLinkHtml;\n",
              "          element.appendChild(docLink);\n",
              "        }\n",
              "      </script>\n",
              "    </div>\n",
              "  </div>\n",
              "  "
            ]
          },
          "metadata": {},
          "execution_count": 50
        }
      ]
    },
    {
      "cell_type": "code",
      "source": [
        "#Hacemos un conteo de palabras y frases\n",
        "our_data[\"text_len\"] = our_data[\"clean_text\"].astype(str).map(len)\n",
        "our_data[\"text_word_count\"] = our_data[\"clean_text\"].map(lambda x: len(str(x).split()))"
      ],
      "metadata": {
        "id": "kki82TDH2aZ8"
      },
      "execution_count": 49,
      "outputs": []
    },
    {
      "cell_type": "code",
      "source": [
        "#Función para obtener la frecuencia de palabras\n",
        "\n",
        "def get_top_n_words(corpus, n=None):\n",
        " \n",
        " corpus_fake = corpus[our_data[\"class\"] == 0].astype(str)\n",
        " corpus_true = corpus[our_data[\"class\"] == 1].astype(str)\n",
        " \n",
        " vec = CountVectorizer(stop_words = stopword_es).fit(corpus_fake)\n",
        " bag_of_words = vec.transform(corpus_fake)\n",
        " sum_words = bag_of_words.sum(axis=0) \n",
        " words_freq_fake = [(word, sum_words[0, idx]) for word, idx in vec.vocabulary_.items()]\n",
        " words_freq_fake =sorted(words_freq_fake, key = lambda x: x[1], reverse=True)\n",
        " \n",
        " vec = CountVectorizer(stop_words = stopword_es).fit(corpus_true)\n",
        " bag_of_words = vec.transform(corpus_true)\n",
        " sum_words = bag_of_words.sum(axis=0) \n",
        " words_freq_true = [(word, sum_words[0, idx]) for word, idx in vec.vocabulary_.items()]\n",
        " words_freq_true =sorted(words_freq_true, key = lambda x: x[1], reverse=True)\n",
        " \n",
        " df_fake = pd.DataFrame(words_freq_fake[:n],columns = [\"text\", \"count\"])\n",
        " df_true = pd.DataFrame(words_freq_true[:n],columns = [\"text\", \"count\"])\n",
        " \n",
        " fig, (ax1, ax2) = plt.subplots(1,2,figsize=(20,8))\n",
        " ax1.bar(df_fake[\"text\"], df_fake[\"count\"])\n",
        " ax1.set_xticklabels(df_fake[\"text\"])\n",
        " ax1.set(xlabel=\"Top 10 de términos más frecuentes en noticias falsas\", ylabel=\"count\")\n",
        " ax2.bar(df_true[\"text\"], df_true[\"count\"])\n",
        " ax2.set_xticklabels(df_true[\"text\"])\n",
        " ax2.set(xlabel=\"Top 10 de términos más frecuentes en noticias verdaderas\", ylabel=\"count\")\n",
        " plt.suptitle(\"Comparación de los términos más repetidos en las noticias (falsas/verdaderas)\")\n",
        " \n",
        " plt.show()"
      ],
      "metadata": {
        "id": "yjAET1vWzRxK"
      },
      "execution_count": 45,
      "outputs": []
    },
    {
      "cell_type": "code",
      "source": [
        "import seaborn as sns\n",
        "import matplotlib.pyplot as plt\n",
        "\n",
        "f, axes = plt.subplots(1, 2, figsize=(24,8))\n",
        "sns.boxplot(y=\"text_len\", x= \"etiqueta\", data=our_data, orient=\"v\" , ax=axes[0], showfliers = False)\n",
        "axes[0].set_title(\"Cantidad de Caracteres de las noticias\", fontsize=17)\n",
        "\n",
        "sns.boxplot(y=\"text_word_count\", x= \"etiqueta\", data=our_data, orient=\"v\" , ax=axes[1], showfliers = False)\n",
        "axes[1].set_title(\"Longitud de las palabras de las noticias\", fontsize=17)\n",
        "\n",
        "\n",
        "plt.show()"
      ],
      "metadata": {
        "colab": {
          "base_uri": "https://localhost:8080/",
          "height": 416
        },
        "id": "Tayz-PM71TsI",
        "outputId": "d073c697-d534-4cee-e76c-2e2334411fcc"
      },
      "execution_count": 51,
      "outputs": [
        {
          "output_type": "display_data",
          "data": {
            "text/plain": [
              "<Figure size 1728x576 with 2 Axes>"
            ],
            "image/png": "[encoded data removed]"
          },
          "metadata": {
            "needs_background": "light"
          }
        }
      ]
    },
    {
      "cell_type": "code",
      "source": [
        "get_top_n_words(corpus=our_data[\"clean_text\"], n=10)"
      ],
      "metadata": {
        "colab": {
          "base_uri": "https://localhost:8080/",
          "height": 529
        },
        "id": "28PqbMQH52Kz",
        "outputId": "300f9510-0fe5-41ab-d0cb-633be0f35bdc"
      },
      "execution_count": 46,
      "outputs": [
        {
          "output_type": "display_data",
          "data": {
            "text/plain": [
              "<Figure size 1440x576 with 2 Axes>"
            ],
            "image/png": "[encoded data removed]"
          },
          "metadata": {
            "needs_background": "light"
          }
        }
      ]
    },
    {
      "cell_type": "markdown",
      "metadata": {
        "id": "3CfVm42o5xXS"
      },
      "source": [
        "# Modelado\n",
        "\n",
        "Ahora estamos listos para desarrollar un modelo de clasificación.\n",
        "\n",
        "Pasos:\n",
        "\n",
        "1. Dividir los datos en conjuntos de entrenamiento y de prueba (75% de entrenamiento, 25% de prueba)    \n",
        "2. Extraer las características de los datos de entrenamiento utilizando CountVectorizer y TfidfVectorizer. \n",
        "3. Transforme los datos de prueba en el mismo vector de características que los datos de entrenamiento.  \n",
        "4. Entrenar el clasificador  \n",
        "5. Evaluar el clasificador  "
      ]
    },
    {
      "cell_type": "code",
      "execution_count": 117,
      "metadata": {
        "colab": {
          "base_uri": "https://localhost:8080/"
        },
        "id": "GimJJHhg5xYl",
        "outputId": "2df5b3eb-64b5-45c1-e4ed-a6c7a25c442a"
      },
      "outputs": [
        {
          "output_type": "stream",
          "name": "stdout",
          "text": [
            "Datos de Entrenamiento: (1500,) (1500,)\n",
            "Datos de Prueba: (500,) (500,)\n"
          ]
        }
      ],
      "source": [
        "# Separamos en entrenamiento y prueba\n",
        "X = our_data['clean_text'] # la columna que contiene el texto donde vamos a entraer las características\n",
        "y = our_data[\"class\"] # la columna donde vamos a aprender a clasificar  \n",
        "\n",
        "# Separar X, y en datasets de entrenamiento prueba. Por defecto se usa el 75% para entrenar y el 25% para pruebas\n",
        "X_train, X_test, y_train, y_test = train_test_split(X, y, random_state=1)\n",
        "print(\"Datos de Entrenamiento:\", X_train.shape, y_train.shape)\n",
        "print(\"Datos de Prueba:\",X_test.shape, y_test.shape)"
      ]
    },
    {
      "cell_type": "markdown",
      "source": [
        "# ¿ Cómo extraer las características de un texto ?\n",
        "Para este ejemplo vamos a utilizar dos técnicas:\n",
        "\n",
        "* CountVectorizer\n",
        "* TfidfVectorizer"
      ],
      "metadata": {
        "id": "jtXYqZi7aQzK"
      }
    },
    {
      "cell_type": "markdown",
      "source": [
        "# CountVectorizer\n",
        "CountVectorizer es una gran herramienta proporcionada por la biblioteca scikit-learn en Python.\n",
        "\n",
        "Se utiliza para transformar un texto dado en un vector sobre la base de la frecuencia(conteo) de cada palabra que aparece en todo el texto.\n",
        "\n",
        "Esto es útil cuando tenemos varios textos de este tipo y deseamos convertir cada palabra de cada texto en vectores(para usar en análisis de texto).\n",
        "\n",
        "CountVectorizer crea una matriz en la que cada palabra única está representada por una columna de la matriz, y cada muestra de texto del documento es una fila en la matriz. \n",
        "\n",
        "El valor de cada celda no es más que el recuento de la palabra en esa muestra de texto en particular. \n",
        "\n",
        "https://es.acervolima.com/uso-de-countvectorizer-para-extraer-caracteristicas-de-texto/"
      ],
      "metadata": {
        "id": "uP01VRA7N5Ml"
      }
    },
    {
      "cell_type": "code",
      "execution_count": 118,
      "metadata": {
        "colab": {
          "base_uri": "https://localhost:8080/"
        },
        "id": "gsUyIBUD5xZI",
        "outputId": "19abc14f-5a41-4fe5-c5ae-a015914ce2f8"
      },
      "outputs": [
        {
          "output_type": "stream",
          "name": "stdout",
          "text": [
            "(1500, 11090) (500, 11090)\n"
          ]
        }
      ],
      "source": [
        "# Vectorizar los datasets de entrenamiento y prueba\n",
        "vect = CountVectorizer() # instantiate a vectoriezer\n",
        "\n",
        "X_train_dtm = vect.fit_transform(X_train)# utilizarlo para extraer características de los datos de entrenamiento\n",
        "\n",
        "# transformar los datos de prueba (utilizando las características de los datos de entrenamiento)\n",
        "X_test_dtm = vect.transform(X_test)\n",
        "\n",
        "# dimensiones del dataset de prueba y entrenamiento\n",
        "print(X_train_dtm.shape, X_test_dtm.shape) "
      ]
    },
    {
      "cell_type": "markdown",
      "source": [
        "# TF-IDF\n",
        "\n",
        "Utilizar simplemente un conteo de cuantas veces aparece una palabra no refleja realmente la importancia de esa palabra en un documento. \n",
        "\n",
        "Por ejemplo, si una palabra está presente con frecuencia en todos los documentos de un corpus, la cantidad de apariciones en diferentes documentos no es útil para discriminar entre diferentes documentos.\n",
        "\n",
        "En cambio, si una palabra sólo está presente en unos pocos documentos, su valor de recuento en esos documentos puede ayudar a discriminarlos del resto de los documentos. Así pues, la importancia de una palabra, es decir, su valor de característica, para un documento no sólo depende de la frecuencia con la que está presente en ese documento, sino también de su presencia global en el corpus. Esta noción de importancia de una palabra en un documento se recoge en un esquema, conocido como esquema de ponderación de frecuencia de términos-frecuencia inversa de documentos (tf-idf ).\n",
        "\n",
        "https://iksinc.online/tag/tfidfvectorizer/"
      ],
      "metadata": {
        "id": "tYwiv0QbN26U"
      }
    },
    {
      "cell_type": "code",
      "source": [
        "# Vectorizar los datasets de entrenamiento y prueba\n",
        "n_features = 15000\n",
        "vect_tfidf = TfidfVectorizer(max_df=0.90, min_df=2, max_features=n_features)\n",
        "\n",
        "X_train_dtm_tfidf = vect_tfidf.fit_transform(X_train) # utilizarlo para extraer características de los datos de entrenamiento\n",
        "\n",
        "# transformar los datos de prueba (utilizando las características de los datos de entrenamiento)\n",
        "X_test_dtm_tfidf = vect_tfidf.transform(X_test)\n",
        "\n",
        "print(X_train_dtm_tfidf.shape, X_test_dtm_tfidf.shape)\n",
        "# dimensiones del dataset de prueba y entrenamiento"
      ],
      "metadata": {
        "colab": {
          "base_uri": "https://localhost:8080/"
        },
        "id": "PwK3G7HgN2hs",
        "outputId": "09ade8b4-078f-47ab-c8c2-5742c4846bb9"
      },
      "execution_count": 119,
      "outputs": [
        {
          "output_type": "stream",
          "name": "stdout",
          "text": [
            "(1500, 4293) (500, 4293)\n"
          ]
        }
      ]
    },
    {
      "cell_type": "markdown",
      "source": [
        "# Modelando los datos  \n",
        "Para clasificar las noticias (Fake, Real) vamos a utilizar un modelo de Naive Bayes*(se puedene probar otros modelos y técnicas)* y para extraer las características de los textos se implementarán dos estrategias un CountVectorizer y un TfidfVectorizer."
      ],
      "metadata": {
        "id": "Qi27_PoVbH5E"
      }
    },
    {
      "cell_type": "markdown",
      "source": [
        "# CountVectorizer"
      ],
      "metadata": {
        "id": "DIhgEPtHry0p"
      }
    },
    {
      "cell_type": "code",
      "execution_count": 120,
      "metadata": {
        "id": "nDLwA4CL5xZq"
      },
      "outputs": [],
      "source": [
        "#Entrenar el clasificador y predecir para los datos de prueba\n",
        "nb = MultinomialNB() #instanciamos un modelo de Naive Bayes \n",
        "nb.fit(X_train_dtm, y_train) #entrenamos el modelo\n",
        "\n",
        "y_pred_class = nb.predict(X_test_dtm) # predecir si una noticia es falsa o no sobre el dataset X_test_dtm"
      ]
    },
    {
      "cell_type": "code",
      "source": [
        "# Evaluar el modelo utilizando varias métricas\n",
        "# Precisión:\n",
        "print(\"Accuracy: \", accuracy_score(y_test, y_pred_class))\n",
        "\n",
        "# imprimi la matriz de confusión\n",
        "cnf_matrix = confusion_matrix(y_test, y_pred_class)\n",
        "plt.figure(figsize=(8,6))\n",
        "plot_confusion_matrix(cnf_matrix, classes=['Fake','Real'],normalize=True,\n",
        "                      title='Matriz de confusión')\n",
        "\n",
        "# calcular el AUC: El área bajo la curva (AUC) da una idea de la eficacia del modelo:\n",
        "# https://en.wikipedia.org/wiki/Receiver_operating_characteristic\n",
        "y_pred_prob = nb.predict_proba(X_test_dtm)[:, 1]\n",
        "print(\"ROC_AOC_Score: \", roc_auc_score(y_test, y_pred_prob))"
      ],
      "metadata": {
        "colab": {
          "base_uri": "https://localhost:8080/",
          "height": 496
        },
        "id": "taBl1kAsQkXZ",
        "outputId": "59717763-fe03-4688-f52e-a2214b772bbe"
      },
      "execution_count": 121,
      "outputs": [
        {
          "output_type": "stream",
          "name": "stdout",
          "text": [
            "Accuracy:  0.794\n",
            "ROC_AOC_Score:  0.8644557059465006\n"
          ]
        },
        {
          "output_type": "display_data",
          "data": {
            "text/plain": [
              "<Figure size 576x432 with 2 Axes>"
            ],
            "image/png": "[encoded data removed]"
          },
          "metadata": {
            "needs_background": "light"
          }
        }
      ]
    },
    {
      "cell_type": "markdown",
      "source": [
        "# Mulinomial Tfidf Vectorizer"
      ],
      "metadata": {
        "id": "2Ff3_GL9bO8c"
      }
    },
    {
      "cell_type": "code",
      "source": [
        "# Step 3: Train the classifier and predict for test data\n",
        "nb_tfidf = MultinomialNB() # instantiate a Multinomial Naive Bayes model\n",
        "nb_tfidf.fit(X_train_dtm_tfidf, y_train) # train the model(timing it with an IPython \"magic command\")\n",
        "\n",
        "y_pred_class_tfidf = nb_tfidf.predict(X_test_dtm_tfidf) # make class predictions for X_test_dtm"
      ],
      "metadata": {
        "id": "BYp_VnFPQc9v"
      },
      "execution_count": 122,
      "outputs": []
    },
    {
      "cell_type": "code",
      "source": [
        "# Step 4: Evaluate the classifier using various measures\n",
        "# Print accuracy:\n",
        "print(\"Accuracy: \", accuracy_score(y_test, y_pred_class_tfidf))\n",
        "    \n",
        "# print the confusion matrix\n",
        "cnf_matrix = confusion_matrix(y_test, y_pred_class_tfidf)\n",
        "plt.figure(figsize=(8,6))\n",
        "plot_confusion_matrix(cnf_matrix, classes=['Fake','True'],normalize=True,\n",
        "                      title='Confusion matrix with all features')\n",
        "\n",
        "# calculate AUC: Area under the curve(AUC) gives idea about the model efficiency:\n",
        "# Further information: https://en.wikipedia.org/wiki/Receiver_operating_characteristic\n",
        "y_pred_prob_tfidf = nb_tfidf.predict_proba(X_test_dtm_tfidf)[:, 1]\n",
        "print(\"ROC_AOC_Score: \", roc_auc_score(y_test, y_pred_prob_tfidf))"
      ],
      "metadata": {
        "colab": {
          "base_uri": "https://localhost:8080/",
          "height": 496
        },
        "id": "W-u8cUW8RZvB",
        "outputId": "fb679a2a-263b-48f2-a1a2-31206b53e581"
      },
      "execution_count": 123,
      "outputs": [
        {
          "output_type": "stream",
          "name": "stdout",
          "text": [
            "Accuracy:  0.778\n",
            "ROC_AOC_Score:  0.8491083456283277\n"
          ]
        },
        {
          "output_type": "display_data",
          "data": {
            "text/plain": [
              "<Figure size 576x432 with 2 Axes>"
            ],
            "image/png": "[encoded data removed]"
          },
          "metadata": {
            "needs_background": "light"
          }
        }
      ]
    },
    {
      "cell_type": "markdown",
      "source": [
        "# Vamos a clasificar algunas noticias nuevas"
      ],
      "metadata": {
        "id": "H96YJnECmNMW"
      }
    },
    {
      "cell_type": "code",
      "source": [
        "#cargamos el dataframe con noticias de prueba\n",
        "test = pd.read_csv(\"test.csv\")"
      ],
      "metadata": {
        "id": "5Pp6QujUmIYR"
      },
      "execution_count": 124,
      "outputs": []
    },
    {
      "cell_type": "code",
      "source": [
        "#limpiamos el texto\n",
        "test[\"clean\"]= test['text'].apply(limpiar_texto)"
      ],
      "metadata": {
        "id": "qihv36nd_G2Y"
      },
      "execution_count": 126,
      "outputs": []
    },
    {
      "cell_type": "code",
      "source": [
        "test.head(2)"
      ],
      "metadata": {
        "colab": {
          "base_uri": "https://localhost:8080/",
          "height": 112
        },
        "id": "Z1DzRdFem9Fp",
        "outputId": "208954b4-0fa3-4f8b-8d29-263952d12094"
      },
      "execution_count": 127,
      "outputs": [
        {
          "output_type": "execute_result",
          "data": {
            "text/plain": [
              "                                               title  \\\n",
              "0  Podemos estudia en su programa playas para muj...   \n",
              "1  Alemania va a quitar los hijos a los padres po...   \n",
              "\n",
              "                                                text  \\\n",
              "0  Spanish nationalism rabid that a Catalan compa...   \n",
              "1  Su amante, llamó al marido llorando y le contó...   \n",
              "\n",
              "                                               clean  \n",
              "0  spanish nationalism rabid that catalan company...  \n",
              "1  su amante llamo marido llorando conto pasando ...  "
            ],
            "text/html": [
              "\n",
              "  <div id=\"df-38b09ff4-69d0-42b2-b7cd-1dde335c36f3\">\n",
              "    <div class=\"colab-df-container\">\n",
              "      <div>\n",
              "<style scoped>\n",
              "    .dataframe tbody tr th:only-of-type {\n",
              "        vertical-align: middle;\n",
              "    }\n",
              "\n",
              "    .dataframe tbody tr th {\n",
              "        vertical-align: top;\n",
              "    }\n",
              "\n",
              "    .dataframe thead th {\n",
              "        text-align: right;\n",
              "    }\n",
              "</style>\n",
              "<table border=\"1\" class=\"dataframe\">\n",
              "  <thead>\n",
              "    <tr style=\"text-align: right;\">\n",
              "      <th></th>\n",
              "      <th>title</th>\n",
              "      <th>text</th>\n",
              "      <th>clean</th>\n",
              "    </tr>\n",
              "  </thead>\n",
              "  <tbody>\n",
              "    <tr>\n",
              "      <th>0</th>\n",
              "      <td>Podemos estudia en su programa playas para muj...</td>\n",
              "      <td>Spanish nationalism rabid that a Catalan compa...</td>\n",
              "      <td>spanish nationalism rabid that catalan company...</td>\n",
              "    </tr>\n",
              "    <tr>\n",
              "      <th>1</th>\n",
              "      <td>Alemania va a quitar los hijos a los padres po...</td>\n",
              "      <td>Su amante, llamó al marido llorando y le contó...</td>\n",
              "      <td>su amante llamo marido llorando conto pasando ...</td>\n",
              "    </tr>\n",
              "  </tbody>\n",
              "</table>\n",
              "</div>\n",
              "      <button class=\"colab-df-convert\" onclick=\"convertToInteractive('df-38b09ff4-69d0-42b2-b7cd-1dde335c36f3')\"\n",
              "              title=\"Convert this dataframe to an interactive table.\"\n",
              "              style=\"display:none;\">\n",
              "        \n",
              "  <svg xmlns=\"http://www.w3.org/2000/svg\" height=\"24px\"viewBox=\"0 0 24 24\"\n",
              "       width=\"24px\">\n",
              "    <path d=\"M0 0h24v24H0V0z\" fill=\"none\"/>\n",
              "    <path d=\"M18.56 5.44l.94 2.06.94-2.06 2.06-.94-2.06-.94-.94-2.06-.94 2.06-2.06.94zm-11 1L8.5 8.5l.94-2.06 2.06-.94-2.06-.94L8.5 2.5l-.94 2.06-2.06.94zm10 10l.94 2.06.94-2.06 2.06-.94-2.06-.94-.94-2.06-.94 2.06-2.06.94z\"/><path d=\"M17.41 7.96l-1.37-1.37c-.4-.4-.92-.59-1.43-.59-.52 0-1.04.2-1.43.59L10.3 9.45l-7.72 7.72c-.78.78-.78 2.05 0 2.83L4 21.41c.39.39.9.59 1.41.59.51 0 1.02-.2 1.41-.59l7.78-7.78 2.81-2.81c.8-.78.8-2.07 0-2.86zM5.41 20L4 18.59l7.72-7.72 1.47 1.35L5.41 20z\"/>\n",
              "  </svg>\n",
              "      </button>\n",
              "      \n",
              "  <style>\n",
              "    .colab-df-container {\n",
              "      display:flex;\n",
              "      flex-wrap:wrap;\n",
              "      gap: 12px;\n",
              "    }\n",
              "\n",
              "    .colab-df-convert {\n",
              "      background-color: #E8F0FE;\n",
              "      border: none;\n",
              "      border-radius: 50%;\n",
              "      cursor: pointer;\n",
              "      display: none;\n",
              "      fill: #1967D2;\n",
              "      height: 32px;\n",
              "      padding: 0 0 0 0;\n",
              "      width: 32px;\n",
              "    }\n",
              "\n",
              "    .colab-df-convert:hover {\n",
              "      background-color: #E2EBFA;\n",
              "      box-shadow: 0px 1px 2px rgba(60, 64, 67, 0.3), 0px 1px 3px 1px rgba(60, 64, 67, 0.15);\n",
              "      fill: #174EA6;\n",
              "    }\n",
              "\n",
              "    [theme=dark] .colab-df-convert {\n",
              "      background-color: #3B4455;\n",
              "      fill: #D2E3FC;\n",
              "    }\n",
              "\n",
              "    [theme=dark] .colab-df-convert:hover {\n",
              "      background-color: #434B5C;\n",
              "      box-shadow: 0px 1px 3px 1px rgba(0, 0, 0, 0.15);\n",
              "      filter: drop-shadow(0px 1px 2px rgba(0, 0, 0, 0.3));\n",
              "      fill: #FFFFFF;\n",
              "    }\n",
              "  </style>\n",
              "\n",
              "      <script>\n",
              "        const buttonEl =\n",
              "          document.querySelector('#df-38b09ff4-69d0-42b2-b7cd-1dde335c36f3 button.colab-df-convert');\n",
              "        buttonEl.style.display =\n",
              "          google.colab.kernel.accessAllowed ? 'block' : 'none';\n",
              "\n",
              "        async function convertToInteractive(key) {\n",
              "          const element = document.querySelector('#df-38b09ff4-69d0-42b2-b7cd-1dde335c36f3');\n",
              "          const dataTable =\n",
              "            await google.colab.kernel.invokeFunction('convertToInteractive',\n",
              "                                                     [key], {});\n",
              "          if (!dataTable) return;\n",
              "\n",
              "          const docLinkHtml = 'Like what you see? Visit the ' +\n",
              "            '<a target=\"_blank\" href=https://colab.research.google.com/notebooks/data_table.ipynb>data table notebook</a>'\n",
              "            + ' to learn more about interactive tables.';\n",
              "          element.innerHTML = '';\n",
              "          dataTable['output_type'] = 'display_data';\n",
              "          await google.colab.output.renderOutput(dataTable, element);\n",
              "          const docLink = document.createElement('div');\n",
              "          docLink.innerHTML = docLinkHtml;\n",
              "          element.appendChild(docLink);\n",
              "        }\n",
              "      </script>\n",
              "    </div>\n",
              "  </div>\n",
              "  "
            ]
          },
          "metadata": {},
          "execution_count": 127
        }
      ]
    },
    {
      "cell_type": "markdown",
      "source": [
        "# Clasificar con CountVectorizer que nos dio mejores resultados"
      ],
      "metadata": {
        "id": "MqMCvRudnI7v"
      }
    },
    {
      "cell_type": "code",
      "source": [
        "test_dtm = vect.transform(test[\"clean\"])# use it to extract features from training data"
      ],
      "metadata": {
        "id": "i6B6Fz8MnMMp"
      },
      "execution_count": 128,
      "outputs": []
    },
    {
      "cell_type": "code",
      "source": [
        "y_pred_test = nb.predict(test_dtm) # make class predictions for test_dtm"
      ],
      "metadata": {
        "id": "6ebHoYKkoHBK"
      },
      "execution_count": 129,
      "outputs": []
    },
    {
      "cell_type": "code",
      "source": [
        "# convert label to Fake - Real\n",
        "test['class'] = pd.Series(y_pred_test).map({1:\"Real\", 0:\"Falso\"}) # True 1, Falsa 0. "
      ],
      "metadata": {
        "id": "GHqY3VGjqjEF"
      },
      "execution_count": 130,
      "outputs": []
    },
    {
      "cell_type": "code",
      "source": [
        "#Cuántas noticias clasificó de cada clase\n",
        "test[\"class\"].value_counts()"
      ],
      "metadata": {
        "colab": {
          "base_uri": "https://localhost:8080/"
        },
        "id": "z_tBUuRd1Z6L",
        "outputId": "c828d832-5cb6-4f4a-8292-d37752094e38"
      },
      "execution_count": 133,
      "outputs": [
        {
          "output_type": "execute_result",
          "data": {
            "text/plain": [
              "Falso    205\n",
              "Real     195\n",
              "Name: class, dtype: int64"
            ]
          },
          "metadata": {},
          "execution_count": 133
        }
      ]
    },
    {
      "cell_type": "code",
      "source": [
        "#Veamos algunas noticias falsas\n",
        "test[test[\"class\"] == \"Falso\"][:5]"
      ],
      "metadata": {
        "colab": {
          "base_uri": "https://localhost:8080/",
          "height": 250
        },
        "id": "VNh4ma_cYQz0",
        "outputId": "0eeb2fba-6e50-4056-c7ba-24e04ff0ee5f"
      },
      "execution_count": 135,
      "outputs": [
        {
          "output_type": "execute_result",
          "data": {
            "text/plain": [
              "                                               title  \\\n",
              "0  Podemos estudia en su programa playas para muj...   \n",
              "1  Alemania va a quitar los hijos a los padres po...   \n",
              "2  Valencia multará los balcones con banderas por...   \n",
              "3  Un directivo de Hazte Oír se besa con una muje...   \n",
              "4  Iglesias y Montero se compran también un apart...   \n",
              "\n",
              "                                                text  \\\n",
              "0  Spanish nationalism rabid that a Catalan compa...   \n",
              "1  Su amante, llamó al marido llorando y le contó...   \n",
              "2  SUBEN LAS PENSIONES 1 EURO Y SUBEN EL RECIBO D...   \n",
              "3  Suecia está haciendo un experimento, ha reduci...   \n",
              "4  Suecia sigue avanzando hacia su islamización. ...   \n",
              "\n",
              "                                               clean  class  \n",
              "0  spanish nationalism rabid that catalan company...  Falso  \n",
              "1  su amante llamo marido llorando conto pasando ...  Falso  \n",
              "2  suben la pensiones 1 euro y suben el recibo de...  Falso  \n",
              "3  suecia haciendo experimento reducido jornada l...  Falso  \n",
              "4  suecia sigue avanzando hacia islamizacion segu...  Falso  "
            ],
            "text/html": [
              "\n",
              "  <div id=\"df-713d748e-9da2-403c-8aa2-db082a5a966c\">\n",
              "    <div class=\"colab-df-container\">\n",
              "      <div>\n",
              "<style scoped>\n",
              "    .dataframe tbody tr th:only-of-type {\n",
              "        vertical-align: middle;\n",
              "    }\n",
              "\n",
              "    .dataframe tbody tr th {\n",
              "        vertical-align: top;\n",
              "    }\n",
              "\n",
              "    .dataframe thead th {\n",
              "        text-align: right;\n",
              "    }\n",
              "</style>\n",
              "<table border=\"1\" class=\"dataframe\">\n",
              "  <thead>\n",
              "    <tr style=\"text-align: right;\">\n",
              "      <th></th>\n",
              "      <th>title</th>\n",
              "      <th>text</th>\n",
              "      <th>clean</th>\n",
              "      <th>class</th>\n",
              "    </tr>\n",
              "  </thead>\n",
              "  <tbody>\n",
              "    <tr>\n",
              "      <th>0</th>\n",
              "      <td>Podemos estudia en su programa playas para muj...</td>\n",
              "      <td>Spanish nationalism rabid that a Catalan compa...</td>\n",
              "      <td>spanish nationalism rabid that catalan company...</td>\n",
              "      <td>Falso</td>\n",
              "    </tr>\n",
              "    <tr>\n",
              "      <th>1</th>\n",
              "      <td>Alemania va a quitar los hijos a los padres po...</td>\n",
              "      <td>Su amante, llamó al marido llorando y le contó...</td>\n",
              "      <td>su amante llamo marido llorando conto pasando ...</td>\n",
              "      <td>Falso</td>\n",
              "    </tr>\n",
              "    <tr>\n",
              "      <th>2</th>\n",
              "      <td>Valencia multará los balcones con banderas por...</td>\n",
              "      <td>SUBEN LAS PENSIONES 1 EURO Y SUBEN EL RECIBO D...</td>\n",
              "      <td>suben la pensiones 1 euro y suben el recibo de...</td>\n",
              "      <td>Falso</td>\n",
              "    </tr>\n",
              "    <tr>\n",
              "      <th>3</th>\n",
              "      <td>Un directivo de Hazte Oír se besa con una muje...</td>\n",
              "      <td>Suecia está haciendo un experimento, ha reduci...</td>\n",
              "      <td>suecia haciendo experimento reducido jornada l...</td>\n",
              "      <td>Falso</td>\n",
              "    </tr>\n",
              "    <tr>\n",
              "      <th>4</th>\n",
              "      <td>Iglesias y Montero se compran también un apart...</td>\n",
              "      <td>Suecia sigue avanzando hacia su islamización. ...</td>\n",
              "      <td>suecia sigue avanzando hacia islamizacion segu...</td>\n",
              "      <td>Falso</td>\n",
              "    </tr>\n",
              "  </tbody>\n",
              "</table>\n",
              "</div>\n",
              "      <button class=\"colab-df-convert\" onclick=\"convertToInteractive('df-713d748e-9da2-403c-8aa2-db082a5a966c')\"\n",
              "              title=\"Convert this dataframe to an interactive table.\"\n",
              "              style=\"display:none;\">\n",
              "        \n",
              "  <svg xmlns=\"http://www.w3.org/2000/svg\" height=\"24px\"viewBox=\"0 0 24 24\"\n",
              "       width=\"24px\">\n",
              "    <path d=\"M0 0h24v24H0V0z\" fill=\"none\"/>\n",
              "    <path d=\"M18.56 5.44l.94 2.06.94-2.06 2.06-.94-2.06-.94-.94-2.06-.94 2.06-2.06.94zm-11 1L8.5 8.5l.94-2.06 2.06-.94-2.06-.94L8.5 2.5l-.94 2.06-2.06.94zm10 10l.94 2.06.94-2.06 2.06-.94-2.06-.94-.94-2.06-.94 2.06-2.06.94z\"/><path d=\"M17.41 7.96l-1.37-1.37c-.4-.4-.92-.59-1.43-.59-.52 0-1.04.2-1.43.59L10.3 9.45l-7.72 7.72c-.78.78-.78 2.05 0 2.83L4 21.41c.39.39.9.59 1.41.59.51 0 1.02-.2 1.41-.59l7.78-7.78 2.81-2.81c.8-.78.8-2.07 0-2.86zM5.41 20L4 18.59l7.72-7.72 1.47 1.35L5.41 20z\"/>\n",
              "  </svg>\n",
              "      </button>\n",
              "      \n",
              "  <style>\n",
              "    .colab-df-container {\n",
              "      display:flex;\n",
              "      flex-wrap:wrap;\n",
              "      gap: 12px;\n",
              "    }\n",
              "\n",
              "    .colab-df-convert {\n",
              "      background-color: #E8F0FE;\n",
              "      border: none;\n",
              "      border-radius: 50%;\n",
              "      cursor: pointer;\n",
              "      display: none;\n",
              "      fill: #1967D2;\n",
              "      height: 32px;\n",
              "      padding: 0 0 0 0;\n",
              "      width: 32px;\n",
              "    }\n",
              "\n",
              "    .colab-df-convert:hover {\n",
              "      background-color: #E2EBFA;\n",
              "      box-shadow: 0px 1px 2px rgba(60, 64, 67, 0.3), 0px 1px 3px 1px rgba(60, 64, 67, 0.15);\n",
              "      fill: #174EA6;\n",
              "    }\n",
              "\n",
              "    [theme=dark] .colab-df-convert {\n",
              "      background-color: #3B4455;\n",
              "      fill: #D2E3FC;\n",
              "    }\n",
              "\n",
              "    [theme=dark] .colab-df-convert:hover {\n",
              "      background-color: #434B5C;\n",
              "      box-shadow: 0px 1px 3px 1px rgba(0, 0, 0, 0.15);\n",
              "      filter: drop-shadow(0px 1px 2px rgba(0, 0, 0, 0.3));\n",
              "      fill: #FFFFFF;\n",
              "    }\n",
              "  </style>\n",
              "\n",
              "      <script>\n",
              "        const buttonEl =\n",
              "          document.querySelector('#df-713d748e-9da2-403c-8aa2-db082a5a966c button.colab-df-convert');\n",
              "        buttonEl.style.display =\n",
              "          google.colab.kernel.accessAllowed ? 'block' : 'none';\n",
              "\n",
              "        async function convertToInteractive(key) {\n",
              "          const element = document.querySelector('#df-713d748e-9da2-403c-8aa2-db082a5a966c');\n",
              "          const dataTable =\n",
              "            await google.colab.kernel.invokeFunction('convertToInteractive',\n",
              "                                                     [key], {});\n",
              "          if (!dataTable) return;\n",
              "\n",
              "          const docLinkHtml = 'Like what you see? Visit the ' +\n",
              "            '<a target=\"_blank\" href=https://colab.research.google.com/notebooks/data_table.ipynb>data table notebook</a>'\n",
              "            + ' to learn more about interactive tables.';\n",
              "          element.innerHTML = '';\n",
              "          dataTable['output_type'] = 'display_data';\n",
              "          await google.colab.output.renderOutput(dataTable, element);\n",
              "          const docLink = document.createElement('div');\n",
              "          docLink.innerHTML = docLinkHtml;\n",
              "          element.appendChild(docLink);\n",
              "        }\n",
              "      </script>\n",
              "    </div>\n",
              "  </div>\n",
              "  "
            ]
          },
          "metadata": {},
          "execution_count": 135
        }
      ]
    },
    {
      "cell_type": "code",
      "source": [
        "#Veamos algunas noticias verdaderas\n",
        "test[test[\"class\"] == \"Real\"][:5]"
      ],
      "metadata": {
        "colab": {
          "base_uri": "https://localhost:8080/",
          "height": 250
        },
        "id": "33BNtuM4YeqW",
        "outputId": "62937af0-d64b-4a90-b401-432a52c10405"
      },
      "execution_count": 137,
      "outputs": [
        {
          "output_type": "execute_result",
          "data": {
            "text/plain": [
              "                                                 title  \\\n",
              "63   INFORME ESPECIAL: la última inversión de Josef...   \n",
              "100  Entra en prisión el joven condenado a 6 años p...   \n",
              "105                                                NaN   \n",
              "125                                                NaN   \n",
              "129                                                NaN   \n",
              "\n",
              "                                                  text  \\\n",
              "63   Un vecino de 24 años de Zamora fue detenido la...   \n",
              "100  La cuenta atrás terminó diez minutos antes de ...   \n",
              "105  1200 cotxes col·lapsen ara mateix els accessos...   \n",
              "125  Los servicios de emergencia no han podido lleg...   \n",
              "129  De cuando John Lennon & Ernesto “Che” Guevara ...   \n",
              "\n",
              "                                                 clean class  \n",
              "63   un vecino 24 años zamora detenido noche sabado...  Real  \n",
              "100  la cuenta atras termino diez minutos siete tar...  Real  \n",
              "105  1200 cotxes col·lapsen ara mateix el accessos ...  Real  \n",
              "125  los servicios emergencia podido llegar tiempo ...  Real  \n",
              "129  de john lennon ernesto “ che ” guevara hiciero...  Real  "
            ],
            "text/html": [
              "\n",
              "  <div id=\"df-072696a2-71c0-48d3-bb12-940eec9f6b50\">\n",
              "    <div class=\"colab-df-container\">\n",
              "      <div>\n",
              "<style scoped>\n",
              "    .dataframe tbody tr th:only-of-type {\n",
              "        vertical-align: middle;\n",
              "    }\n",
              "\n",
              "    .dataframe tbody tr th {\n",
              "        vertical-align: top;\n",
              "    }\n",
              "\n",
              "    .dataframe thead th {\n",
              "        text-align: right;\n",
              "    }\n",
              "</style>\n",
              "<table border=\"1\" class=\"dataframe\">\n",
              "  <thead>\n",
              "    <tr style=\"text-align: right;\">\n",
              "      <th></th>\n",
              "      <th>title</th>\n",
              "      <th>text</th>\n",
              "      <th>clean</th>\n",
              "      <th>class</th>\n",
              "    </tr>\n",
              "  </thead>\n",
              "  <tbody>\n",
              "    <tr>\n",
              "      <th>63</th>\n",
              "      <td>INFORME ESPECIAL: la última inversión de Josef...</td>\n",
              "      <td>Un vecino de 24 años de Zamora fue detenido la...</td>\n",
              "      <td>un vecino 24 años zamora detenido noche sabado...</td>\n",
              "      <td>Real</td>\n",
              "    </tr>\n",
              "    <tr>\n",
              "      <th>100</th>\n",
              "      <td>Entra en prisión el joven condenado a 6 años p...</td>\n",
              "      <td>La cuenta atrás terminó diez minutos antes de ...</td>\n",
              "      <td>la cuenta atras termino diez minutos siete tar...</td>\n",
              "      <td>Real</td>\n",
              "    </tr>\n",
              "    <tr>\n",
              "      <th>105</th>\n",
              "      <td>NaN</td>\n",
              "      <td>1200 cotxes col·lapsen ara mateix els accessos...</td>\n",
              "      <td>1200 cotxes col·lapsen ara mateix el accessos ...</td>\n",
              "      <td>Real</td>\n",
              "    </tr>\n",
              "    <tr>\n",
              "      <th>125</th>\n",
              "      <td>NaN</td>\n",
              "      <td>Los servicios de emergencia no han podido lleg...</td>\n",
              "      <td>los servicios emergencia podido llegar tiempo ...</td>\n",
              "      <td>Real</td>\n",
              "    </tr>\n",
              "    <tr>\n",
              "      <th>129</th>\n",
              "      <td>NaN</td>\n",
              "      <td>De cuando John Lennon &amp; Ernesto “Che” Guevara ...</td>\n",
              "      <td>de john lennon ernesto “ che ” guevara hiciero...</td>\n",
              "      <td>Real</td>\n",
              "    </tr>\n",
              "  </tbody>\n",
              "</table>\n",
              "</div>\n",
              "      <button class=\"colab-df-convert\" onclick=\"convertToInteractive('df-072696a2-71c0-48d3-bb12-940eec9f6b50')\"\n",
              "              title=\"Convert this dataframe to an interactive table.\"\n",
              "              style=\"display:none;\">\n",
              "        \n",
              "  <svg xmlns=\"http://www.w3.org/2000/svg\" height=\"24px\"viewBox=\"0 0 24 24\"\n",
              "       width=\"24px\">\n",
              "    <path d=\"M0 0h24v24H0V0z\" fill=\"none\"/>\n",
              "    <path d=\"M18.56 5.44l.94 2.06.94-2.06 2.06-.94-2.06-.94-.94-2.06-.94 2.06-2.06.94zm-11 1L8.5 8.5l.94-2.06 2.06-.94-2.06-.94L8.5 2.5l-.94 2.06-2.06.94zm10 10l.94 2.06.94-2.06 2.06-.94-2.06-.94-.94-2.06-.94 2.06-2.06.94z\"/><path d=\"M17.41 7.96l-1.37-1.37c-.4-.4-.92-.59-1.43-.59-.52 0-1.04.2-1.43.59L10.3 9.45l-7.72 7.72c-.78.78-.78 2.05 0 2.83L4 21.41c.39.39.9.59 1.41.59.51 0 1.02-.2 1.41-.59l7.78-7.78 2.81-2.81c.8-.78.8-2.07 0-2.86zM5.41 20L4 18.59l7.72-7.72 1.47 1.35L5.41 20z\"/>\n",
              "  </svg>\n",
              "      </button>\n",
              "      \n",
              "  <style>\n",
              "    .colab-df-container {\n",
              "      display:flex;\n",
              "      flex-wrap:wrap;\n",
              "      gap: 12px;\n",
              "    }\n",
              "\n",
              "    .colab-df-convert {\n",
              "      background-color: #E8F0FE;\n",
              "      border: none;\n",
              "      border-radius: 50%;\n",
              "      cursor: pointer;\n",
              "      display: none;\n",
              "      fill: #1967D2;\n",
              "      height: 32px;\n",
              "      padding: 0 0 0 0;\n",
              "      width: 32px;\n",
              "    }\n",
              "\n",
              "    .colab-df-convert:hover {\n",
              "      background-color: #E2EBFA;\n",
              "      box-shadow: 0px 1px 2px rgba(60, 64, 67, 0.3), 0px 1px 3px 1px rgba(60, 64, 67, 0.15);\n",
              "      fill: #174EA6;\n",
              "    }\n",
              "\n",
              "    [theme=dark] .colab-df-convert {\n",
              "      background-color: #3B4455;\n",
              "      fill: #D2E3FC;\n",
              "    }\n",
              "\n",
              "    [theme=dark] .colab-df-convert:hover {\n",
              "      background-color: #434B5C;\n",
              "      box-shadow: 0px 1px 3px 1px rgba(0, 0, 0, 0.15);\n",
              "      filter: drop-shadow(0px 1px 2px rgba(0, 0, 0, 0.3));\n",
              "      fill: #FFFFFF;\n",
              "    }\n",
              "  </style>\n",
              "\n",
              "      <script>\n",
              "        const buttonEl =\n",
              "          document.querySelector('#df-072696a2-71c0-48d3-bb12-940eec9f6b50 button.colab-df-convert');\n",
              "        buttonEl.style.display =\n",
              "          google.colab.kernel.accessAllowed ? 'block' : 'none';\n",
              "\n",
              "        async function convertToInteractive(key) {\n",
              "          const element = document.querySelector('#df-072696a2-71c0-48d3-bb12-940eec9f6b50');\n",
              "          const dataTable =\n",
              "            await google.colab.kernel.invokeFunction('convertToInteractive',\n",
              "                                                     [key], {});\n",
              "          if (!dataTable) return;\n",
              "\n",
              "          const docLinkHtml = 'Like what you see? Visit the ' +\n",
              "            '<a target=\"_blank\" href=https://colab.research.google.com/notebooks/data_table.ipynb>data table notebook</a>'\n",
              "            + ' to learn more about interactive tables.';\n",
              "          element.innerHTML = '';\n",
              "          dataTable['output_type'] = 'display_data';\n",
              "          await google.colab.output.renderOutput(dataTable, element);\n",
              "          const docLink = document.createElement('div');\n",
              "          docLink.innerHTML = docLinkHtml;\n",
              "          element.appendChild(docLink);\n",
              "        }\n",
              "      </script>\n",
              "    </div>\n",
              "  </div>\n",
              "  "
            ]
          },
          "metadata": {},
          "execution_count": 137
        }
      ]
    },
    {
      "cell_type": "code",
      "source": [
        "#guardamos el modelo\n",
        "#guardamos el vectorizador de texto\n",
        "import pickle\n",
        "\n",
        "pickle.dump(nb, open('model.pkl', 'wb')) #exportar modelo\n",
        "pickle.dump(vect, open('carecteristicas.pkl', 'wb')) #exportar feature extraction\n"
      ],
      "metadata": {
        "id": "sbyIGTYnpxYB"
      },
      "execution_count": 132,
      "outputs": []
    }
  ],
  "metadata": {
    "colab": {
      "collapsed_sections": [],
      "name": "Artículo-Julio.ipynb",
      "provenance": [],
      "toc_visible": true
    },
    "kernelspec": {
      "display_name": "Python 3",
      "language": "python",
      "name": "python3"
    },
    "language_info": {
      "codemirror_mode": {
        "name": "ipython",
        "version": 3
      },
      "file_extension": ".py",
      "mimetype": "text/x-python",
      "name": "python",
      "nbconvert_exporter": "python",
      "pygments_lexer": "ipython3",
      "version": "3.7.4"
    }
  },
  "nbformat": 4,
  "nbformat_minor": 0
}